{
  "nbformat": 4,
  "nbformat_minor": 0,
  "metadata": {
    "colab": {
      "provenance": [],
      "authorship_tag": "ABX9TyNn8g0b30VPmVPqp2TSSScb",
      "include_colab_link": true
    },
    "kernelspec": {
      "name": "python3",
      "display_name": "Python 3"
    },
    "language_info": {
      "name": "python"
    }
  },
  "cells": [
    {
      "cell_type": "markdown",
      "metadata": {
        "id": "view-in-github",
        "colab_type": "text"
      },
      "source": [
        "<a href=\"https://colab.research.google.com/github/josesuarez2424/ejercicios_python_sec/blob/main/ejercicios.ipynb\" target=\"_parent\"><img src=\"https://colab.research.google.com/assets/colab-badge.svg\" alt=\"Open In Colab\"/></a>"
      ]
    },
    {
      "cell_type": "code",
      "execution_count": 9,
      "metadata": {
        "id": "_HqCj3nzbxiX",
        "outputId": "5632bc4b-7d76-4342-9d1b-f62c7a3fdbeb",
        "colab": {
          "base_uri": "https://localhost:8080/"
        }
      },
      "outputs": [
        {
          "output_type": "stream",
          "name": "stdout",
          "text": [
            "escriba su nombre:jose daniel\n",
            "cual es tu edad?20\n",
            "hello , jose daniel\n",
            "tienes , 20 años\n"
          ]
        }
      ],
      "source": [
        "name = input(\"escriba su nombre:\")\n",
        "age = int(input(\"cual es tu edad?\"))\n",
        "print(\"hello ,\" , name)\n",
        "print(\"tienes ,\" , str(20), \"años\" )"
      ]
    },
    {
      "cell_type": "markdown",
      "source": [
        "calcular el area de un rectangulo apartir de su base y su altura\n",
        "\n",
        "A = b * h"
      ],
      "metadata": {
        "id": "j9COY01qf9WQ"
      }
    },
    {
      "cell_type": "code",
      "source": [
        "print(\"programa para calcular el area de un rectangulo\")\n",
        "b = float(input(\"ingrese la base (m):\"))\n",
        "h = float(input(\"ingrese la altura (n)\"))\n",
        "A = b * h\n",
        "print(\"el area de un rectangulo\", str(b), \"(m) y altura\", str(h), \"(n) es\", str(A), \"m2\")"
      ],
      "metadata": {
        "id": "q-oWvvwRgO6p",
        "outputId": "dd6c5a9a-6041-4001-b17c-071fe45fc8fd",
        "colab": {
          "base_uri": "https://localhost:8080/"
        }
      },
      "execution_count": 11,
      "outputs": [
        {
          "output_type": "stream",
          "name": "stdout",
          "text": [
            "programa para calcular el area de un rectangulo\n",
            "ingrese la base (m):20\n",
            "ingrese la altura (n)14\n",
            "el area de un rectangulo 20.0 (m) y altura 14.0 (n) es 280.0 m2\n"
          ]
        }
      ]
    },
    {
      "cell_type": "code",
      "source": [
        "print(\"programa para calcular el area de un triangulo\")\n",
        "b = float(input(\"ingrese la base (m):\"))\n",
        "h = float(input(\"ingrese la altura (n)\"))\n",
        "A = b * h / 2\n",
        "print(\"el area de un rectangulo\", str(b), \"(m) y altura\", str(h), \"(n) es\", str(A), \"m2\")"
      ],
      "metadata": {
        "id": "PYVUX8ACi9fP",
        "outputId": "ac7a76cd-5fea-4a55-8df8-228be7cc3c7d",
        "colab": {
          "base_uri": "https://localhost:8080/"
        }
      },
      "execution_count": 13,
      "outputs": [
        {
          "output_type": "stream",
          "name": "stdout",
          "text": [
            "programa para calcular el area de un triangulo\n",
            "ingrese la base (m):20\n",
            "ingrese la altura (n)14\n",
            "el area de un rectangulo 20.0 (m) y altura 14.0 (n) es 140.0 m2\n"
          ]
        }
      ]
    },
    {
      "cell_type": "code",
      "source": [
        "print(\"programa para calcular el area de un circulo\")\n",
        "r = float(input(\"ingrese la base (m):\"))\n",
        "\n",
        "A = 3.14 * r * r\n",
        "print(\"el area de un rectangulo\", str(b), \"(m) y altura\", str(h), \"(n) es\", str(A), \"m2\")"
      ],
      "metadata": {
        "id": "1o_dcQnZjfYX",
        "outputId": "73bf4c25-454c-4a1b-b21e-962bfd54db43",
        "colab": {
          "base_uri": "https://localhost:8080/"
        }
      },
      "execution_count": 14,
      "outputs": [
        {
          "output_type": "stream",
          "name": "stdout",
          "text": [
            "programa para calcular el area de un circulo\n",
            "ingrese la base (m):12.5\n",
            "el area de un rectangulo 20.0 (m) y altura 14.0 (n) es 490.625 m2\n"
          ]
        }
      ]
    },
    {
      "cell_type": "code",
      "source": [
        "import math\n",
        "A = float (input(\"escriba la amplitud:\"))\n",
        "f = float (input(\"escriba la frecuencia:\"))\n",
        "ang = float (input(\"escriba el angulo\"))\n",
        "t = float (input(\"escriba el tiempo:\"))\n",
        "\n",
        "w = 2*math.pi*f\n",
        "o = ang*(math.pi/180)\n",
        "\n",
        "v = A*math.cos(w*t + o)\n",
        "print(v)"
      ],
      "metadata": {
        "id": "LG7-oMRzlZuU",
        "outputId": "c49a0b7e-2bff-4f91-b6a1-795a0d0a4da4",
        "colab": {
          "base_uri": "https://localhost:8080/"
        }
      },
      "execution_count": 15,
      "outputs": [
        {
          "output_type": "stream",
          "name": "stdout",
          "text": [
            "escriba la amplitud:208\n",
            "escriba la frecuencia:60\n",
            "escriba el angulo30\n",
            "escriba el tiempo:16.15\n",
            "180.13328398724155\n"
          ]
        }
      ]
    }
  ]
}